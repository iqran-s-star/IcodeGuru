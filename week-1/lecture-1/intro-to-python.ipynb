{
 "cells": [
  {
   "cell_type": "markdown",
   "metadata": {},
   "source": [
    "<h6 align=\"left\">Module-1</h6><h6 align=\"right\">Date:28-02-2022</h6>\n",
    "\n",
    "---\n",
    "\n",
    "<img src=\"./images/1.png\" height=\"75\" width=\"75\" align=\"left\" alt = \"image not found\">\n",
    "<img src=\"./images/2.jpeg\" height=\"75\" width=\"75\" align=\"right\">\n",
    "<h1 align=\"center\">Basics of Python Programming</h1>\n",
    "<h2 style=\"color:olive\" align=\"center\">Week-1</h2>\n",
    "\n",
    "<br>\n",
    "<br>\n",
    "\n",
    "---\n",
    "\n",
    "<h3 align=\"right\">Instructor : Muhammad Iqran (Software Engineer)</h3>"
   ]
  },
  {
   "cell_type": "markdown",
   "metadata": {},
   "source": [
    "<br>\n",
    "<br>\n",
    "<h3 align=\"center\">Lecture:1.0</h3>\n",
    "<h4 align=\"center\" style=\"color:olive\">Introduction to Python Anaconda and Jupyter Notebook </h4>\n",
    "<br>\n",
    "<br>"
   ]
  },
  {
   "cell_type": "markdown",
   "metadata": {},
   "source": [
    "<h2>Learning Agenda to this notebook</h2>"
   ]
  },
  {
   "cell_type": "markdown",
   "metadata": {},
   "source": [
    "<ol>\n",
    "    <li style=\"color:olive\">History and key Features of python</li>\n",
    "    <li style=\"color:olive\">important libraries and frameworks</li>\n",
    "    <li style=\"color:olive\">Application and World top organizations using Python</li>\n",
    "    <li style=\"color:olive\">Download and install Python anaconda jupyter notebook</li>\n",
    "    <li style=\"color:olive\">Use of Built-in `print()` and `help()` function</li>\n",
    "    <li style=\"color:olive\">Running Bash Shell Commands in Jupyter notebook</li>\n",
    "    <li style=\"color:olive\">IPython Magic Commands</li>\n",
    "    <li style=\"color:olive\">Code Editors<ul><li>visual studio code</li></ul>Desktop IDEs<ul><li>Pycharm</li></ul>Browser based IDEs<ul><li>Jupyter Notebook/Lab)</li></ul>Cloud based IDEs<ul><li>Google Colab</li></ul></li>\n",
    "</ol>"
   ]
  },
  {
   "cell_type": "markdown",
   "metadata": {},
   "source": [
    "<h2 align=\"center\">1. History and key Features of python</h2>"
   ]
  },
  {
   "cell_type": "markdown",
   "metadata": {},
   "source": [
    "<h1>History of Python</h1>\n",
    "\n",
    "- Python is an interpreted, high-level, general-purpose programming language.\n",
    "Created by Guido van Rossum and first released in 1991 Guuido named it,after thr show  <i><b>\"Monty Python's flying circus\"</b></i> being a huge fan of it\n",
    "- Python reached version 1.0 in January 1994. The major new features included in this release were the functional programming tools lambda , map , filter and reduced\n",
    "- Python 2.0 was released on October 16, 2000, with many major new features, including a list comprehension cycle-detecting garbage collector.\n",
    "- Python 3.0 final was released on December 3rd, 2008\n",
    "- Stable version of python is 3.8"
   ]
  },
  {
   "cell_type": "markdown",
   "metadata": {},
   "source": [
    "<h1>Key Feactures</h1>\n",
    "\n",
    "-  Easy to Learn and Use\n",
    "-  Expressive Language\n",
    "-  Interpreted Language\n",
    "-  Cross-platform Language\n",
    "-  Free and Open Source\n",
    "-  Large Standard Library\n",
    "-  Extensible"
   ]
  },
  {
   "cell_type": "markdown",
   "metadata": {},
   "source": [
    "<h1 align=\"center\">2. important libraries and frameworks</h1>"
   ]
  },
  {
   "cell_type": "markdown",
   "metadata": {},
   "source": [
    "<br>\n",
    "<br>\n",
    "<h2>libraries</h2>\n",
    "<img src=\"images/l.png\" align=\"center\">\n",
    "<br>\n",
    "<br>\n",
    "<h2>Frameworks</h2>\n",
    "<img src=\"images/f.png\" align=\"center\">"
   ]
  },
  {
   "cell_type": "markdown",
   "metadata": {},
   "source": [
    "<br>\n",
    "<br>\n",
    "<br>\n",
    "<h1 align=\"center\">3. Application and World top organizations using Python</h1>"
   ]
  },
  {
   "cell_type": "markdown",
   "metadata": {},
   "source": [
    "\n",
    "<br>\n",
    "<br>\n",
    "<img src=\"images/a.png\" align=\"center\">"
   ]
  },
  {
   "cell_type": "markdown",
   "metadata": {},
   "source": [
    "<br>\n",
    "<br>\n",
    "<h2 align=\"center\">4. Download and install Python anaconda jupyter notebook</h2>\n",
    "<br>\n",
    "<br>"
   ]
  },
  {
   "cell_type": "markdown",
   "metadata": {},
   "source": [
    "\n",
    "Click here to Download <a href=\"https://www.python.org/downloads/\">Python&nbsp;&nbsp;</a>\n",
    "<a href=\"https://www.anaconda.com/products/individual\">Anaconda</a>"
   ]
  },
  {
   "cell_type": "markdown",
   "metadata": {},
   "source": [
    "<h2 align=\"center\">5. Use of Built-in `print()` and `help()` function</h2>"
   ]
  },
  {
   "cell_type": "markdown",
   "metadata": {},
   "source": [
    "## Use of Built-in `print()` Function\n",
    "- **`print`**: The `print` is a Python built-in function that is used to display information. It takes one or more inputs, which can be text (within quotes, e.g., `\"this is some text\"`), numbers, variables, mathematical expressions, etc. We'll learn more about variables the next tutorial.\n",
    "\n",
    "- Jupyter allows you to write multiple lines of code within a single code cell. However, the result of the last line of code within a cell is displayed as the output. \n",
    "\n",
    "* Python `print()` function receives variable number of comma separated values and all the comma separated elements/variables get printed on the output separated by spaces (by default)\n",
    "- To find out the arguments that you can pass to a function or method in IPython, just place the cursor inside parenthesis and hit <shift +\n",
    "    - Tab> once: Displays a brief signature with doc string\n",
    "    - Tab> twice: Displays a larger frame to display more information\n",
    "    - Tab> thrice: Displays the information for a longer duration\n",
    "    - Tab> fourth time: The information takes almost half of your screen and you can resize it for longer usage"
   ]
  },
  {
   "cell_type": "code",
   "execution_count": null,
   "metadata": {},
   "outputs": [],
   "source": [
    "print('Programing is Fun!!!')"
   ]
  },
  {
   "cell_type": "markdown",
   "metadata": {},
   "source": [
    "## Use of Built-in `help()` Function\n",
    "Within IPython you have various way to access help:\n",
    "-  `?`             Introduction and overview of IPython's features (this screen).\n",
    "-  `?object`       Details about 'object'.\n",
    "-  `help(object)`   Access Python's own help system.\n",
    "-  `help()`   Interactive help utility"
   ]
  },
  {
   "cell_type": "code",
   "execution_count": null,
   "metadata": {},
   "outputs": [],
   "source": [
    "help('print')"
   ]
  },
  {
   "cell_type": "code",
   "execution_count": null,
   "metadata": {},
   "outputs": [],
   "source": []
  },
  {
   "cell_type": "markdown",
   "metadata": {},
   "source": [
    "<h2 align=\"center\">6. Running Bash Shell Commands in Jupyter notebook</h3>"
   ]
  },
  {
   "cell_type": "code",
   "execution_count": null,
   "metadata": {},
   "outputs": [],
   "source": [
    "!pwd\n",
    "!date\n",
    "!touch f1.txt\n",
    "!touch f1.html\n",
    "!ls #dir \n",
    "!echo \"This is fun..\"\n",
    "!cat ./f1.txt"
   ]
  },
  {
   "cell_type": "markdown",
   "metadata": {},
   "source": [
    "<h2 align=\"center\">7. IPython Magic Commands</h2>"
   ]
  },
  {
   "cell_type": "markdown",
   "metadata": {},
   "source": [
    "\n",
    "- The Jupyter notebook has a set of predefined magic functions like cd, ls, ...... You can use them if you are good at working on command line shells\n",
    "- There are two kinds\n",
    "    - **Line magics** are prefixed with the **`%`** character, and work much like OS command-line calls: they get as an argument the rest of the line, where arguments are passed without parentheses or quotes\n",
    "    - **Cell magics** are prefixed with a double **`%%`** character, and they are functions that get as an argument not only the rest of the line, but also the lines below it in a separate argument.  These magics are called with two arguments: the rest of the call line and the body of the cell, consisting of the lines below the first."
   ]
  },
  {
   "cell_type": "code",
   "execution_count": null,
   "metadata": {},
   "outputs": [],
   "source": [
    "%lsmagic"
   ]
  },
  {
   "cell_type": "code",
   "execution_count": null,
   "metadata": {},
   "outputs": [],
   "source": [
    "%%bash\n",
    "echo \"My shell is:\" $SHELL\n",
    "touch newfile\n",
    "date\n",
    "pwd\n",
    "for friends in 'Khurram', 'Idrees', 'Waheed', 'Nadeem'\n",
    "   do\n",
    "      echo $friends\n",
    "   done"
   ]
  },
  {
   "cell_type": "code",
   "execution_count": null,
   "metadata": {},
   "outputs": [],
   "source": []
  },
  {
   "cell_type": "markdown",
   "metadata": {},
   "source": [
    "<h1>Code Editor Vs IDE's</h1>\n",
    "\n",
    "- Download Code Editor <a href=\"https://code.visualstudio.com/download\">Download Visual Studio Code </a>\n",
    "- Download Desktop Based IDEs <a href=\"https://www.jetbrains.com/pycharm/download/#section=linux\">Download PyCharm </a>\n",
    "- Cloud Based IDEs <a href=\"https://colab.research.google.com/?utm_source=scs-index\" > Google Colab </a>\n",
    "- Download Jupyter notebook <a href=\"https://jupyter.org/install\"> Jupyter notebook </a>"
   ]
  },
  {
   "cell_type": "markdown",
   "metadata": {},
   "source": [
    "<h1 align=\"center\">Check Your concepts</h1>\n",
    "\n",
    "<h2>Try To Ans them</h2>\n",
    "\n",
    "   >- What is PYthon?\n",
    "   >- Where we use python?\n",
    "   >- when python 1.0 version released?\n",
    "   >- What is current version of python?\n",
    "   >- why we call python is expressive language?"
   ]
  },
  {
   "cell_type": "markdown",
   "metadata": {},
   "source": [
    "<h3>Assignment:1</h3>\n",
    "\n",
    "Download and install any IDEs or code Editor and try to impelement Following Algorithm\n",
    "\n",
    "- Linear and Binary Search"
   ]
  },
  {
   "cell_type": "markdown",
   "metadata": {},
   "source": [
    "<h3>Assignment:2</h3>\n",
    "\n",
    "- Create leetcode account"
   ]
  },
  {
   "cell_type": "code",
   "execution_count": null,
   "metadata": {},
   "outputs": [],
   "source": []
  }
 ],
 "metadata": {
  "kernelspec": {
   "display_name": "Python 3",
   "language": "python",
   "name": "python3"
  },
  "language_info": {
   "codemirror_mode": {
    "name": "ipython",
    "version": 3
   },
   "file_extension": ".py",
   "mimetype": "text/x-python",
   "name": "python",
   "nbconvert_exporter": "python",
   "pygments_lexer": "ipython3",
   "version": "3.8.10"
  }
 },
 "nbformat": 4,
 "nbformat_minor": 4
}
